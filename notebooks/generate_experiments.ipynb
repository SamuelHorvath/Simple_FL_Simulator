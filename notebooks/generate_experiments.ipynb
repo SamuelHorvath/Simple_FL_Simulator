{
 "cells": [
  {
   "cell_type": "code",
   "execution_count": 1,
   "metadata": {
    "pycharm": {
     "name": "#%%\n"
    },
    "tags": []
   },
   "outputs": [],
   "source": [
    "import os\n",
    "from itertools import product\n",
    "\n",
    "script_dir = \"../run_scripts/\"\n",
    "os.makedirs(script_dir, exist_ok=True)"
   ]
  },
  {
   "cell_type": "code",
   "execution_count": 2,
   "metadata": {},
   "outputs": [],
   "source": [
    "task = 'femnist'\n",
    "identifier = 'test'\n",
    "agg = 'mean'\n",
    "sampling = 'uniform'\n",
    "simulated_workers = 16\n",
    "local_opt = 'sgd'\n",
    "global_opt = 'sgd'\n",
    "gpu_id = 0\n",
    "comm_rounds = 100\n",
    "batch_size = 32\n",
    "test_batch_size = 1024\n",
    "global_lr = 1.\n",
    "\n",
    "local_lr_s = [0.1, 0.01, 0.001]\n",
    "seed_s = [123, 124, 125]"
   ]
  },
  {
   "cell_type": "code",
   "execution_count": 3,
   "metadata": {},
   "outputs": [],
   "source": [
    "f = open(f\"{script_dir}{task}_{identifier}.sh\", \"w\")\n",
    "\n",
    "for seed, local_lr in product(seed_s, local_lr_s):\n",
    "    run_script = f\"CUDA_VISIBLE_DEVICES={gpu_id} python3 run.py --task {task}\" \\\n",
    "                 f\" --identifier {identifier} --agg {agg} --seed {seed} --deterministic\" \\\n",
    "                 f\" --sampling {sampling} -sw {simulated_workers}\" \\\n",
    "                 f\" --local-opt {local_opt} --global-opt {global_opt}\" \\\n",
    "                 f\" --local-lr {local_lr} --global-lr {global_lr}\" \\\n",
    "                 f\" -cr {comm_rounds} -b {batch_size} --test-batch-size {test_batch_size}\"\n",
    "    f.write(run_script + \"\\n\")\n",
    "\n",
    "f.close()"
   ]
  },
  {
   "cell_type": "code",
   "execution_count": null,
   "metadata": {},
   "outputs": [],
   "source": []
  }
 ],
 "metadata": {
  "kernelspec": {
   "display_name": "fedshuffle",
   "language": "python",
   "name": "fedshuffle"
  },
  "language_info": {
   "codemirror_mode": {
    "name": "ipython",
    "version": 3
   },
   "file_extension": ".py",
   "mimetype": "text/x-python",
   "name": "python",
   "nbconvert_exporter": "python",
   "pygments_lexer": "ipython3",
   "version": "3.9.9"
  }
 },
 "nbformat": 4,
 "nbformat_minor": 4
}
